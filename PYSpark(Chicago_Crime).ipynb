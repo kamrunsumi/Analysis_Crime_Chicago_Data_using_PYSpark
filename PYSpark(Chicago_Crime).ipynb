{
  "nbformat": 4,
  "nbformat_minor": 0,
  "metadata": {
    "kernelspec": {
      "display_name": "Python 3",
      "language": "python",
      "name": "python3"
    },
    "language_info": {
      "codemirror_mode": {
        "name": "ipython",
        "version": 3
      },
      "file_extension": ".py",
      "mimetype": "text/x-python",
      "name": "python",
      "nbconvert_exporter": "python",
      "pygments_lexer": "ipython3",
      "version": "3.7.1"
    },
    "colab": {
      "name": "PYSpark(Chicago_Crime).ipynb",
      "provenance": [],
      "collapsed_sections": [],
      "include_colab_link": true
    }
  },
  "cells": [
    {
      "cell_type": "markdown",
      "metadata": {
        "id": "view-in-github",
        "colab_type": "text"
      },
      "source": [
        "<a href=\"https://colab.research.google.com/github/kamrunsumi/Analysis_Crime_Chicago_Data_using_PYSpark/blob/master/PYSpark(Chicago_Crime).ipynb\" target=\"_parent\"><img src=\"https://colab.research.google.com/assets/colab-badge.svg\" alt=\"Open In Colab\"/></a>"
      ]
    },
    {
      "cell_type": "markdown",
      "metadata": {
        "id": "CuZiDNmrWsCG",
        "colab_type": "text"
      },
      "source": [
        "<h1><center> PySpark </center></h1>\n",
        "\n",
        "### Kamrun Sumi\n",
        "### Dataset: Crimes - 2001 to present - Dashboard \n",
        "### Dataset link: https://data.cityofchicago.org/Public-Safety/Crimes-2001-to-present-Dashboard/5cd6-ry5g\n",
        "### googlecloud link:https://storage.googleapis.com/pyspark_assignment/crime_chicago.csv\n",
        "\n"
      ]
    },
    {
      "cell_type": "markdown",
      "metadata": {
        "id": "jL9raPD6V-EH",
        "colab_type": "text"
      },
      "source": [
        "# Crime in Chicago\n",
        "Crime in Chicago is one of the most popular topics for all data scientists due to the availability of huge amounts of\n",
        "publicly available high quality data set which will help all data scientists to explore.\n",
        "In this notebook, I am going to explore more about crime in Chicago and try to answer the some questions: "
      ]
    },
    {
      "cell_type": "markdown",
      "metadata": {
        "id": "-2FLm0oaV-EI",
        "colab_type": "text"
      },
      "source": [
        "# Importing data and setting Py Spark Environment.\n",
        "First, I am going to import libraries required and read the data into py spark.\n",
        "## Install Java, Spark, and Findspark\n",
        "\n",
        "This installs Apache Spark 2.2.1, Java 8, and [Findspark](https://github.com/minrk/findspark), a library that makes it easy for Python to find Spark."
      ]
    },
    {
      "cell_type": "code",
      "metadata": {
        "id": "Je2KDuWmV-EJ",
        "colab_type": "code",
        "colab": {}
      },
      "source": [
        "%%bashhttp://apache.osuosl.org/spark/spark-2.4.4/spark-2.4.4-bin-hadoop2.7.tgz  \n",
        "apt-get install openjdk-8-jdk-headless -qq > /dev/null\n",
        "[ ! -e \"$(basename spark-2.4.4-bin-hadoop2.7.tgz)\" ] && wget  \n",
        "tar xf spark-2.4.4-bin-hadoop2.7.tgz\n",
        "pip install -q findspark"
      ],
      "execution_count": null,
      "outputs": []
    },
    {
      "cell_type": "markdown",
      "metadata": {
        "id": "dEIl7ul4YwZi",
        "colab_type": "text"
      },
      "source": [
        "## Set Environment Variables\n",
        "Set the locations where Spark and Java are installed."
      ]
    },
    {
      "cell_type": "code",
      "metadata": {
        "id": "OgBGevUCY3zb",
        "colab_type": "code",
        "colab": {}
      },
      "source": [
        "import os\n",
        "os.environ[\"JAVA_HOME\"] = \"/usr/lib/jvm/java-8-openjdk-amd64\"\n",
        "os.environ[\"SPARK_HOME\"] = \"/content/spark-2.4.4-bin-hadoop2.7\""
      ],
      "execution_count": null,
      "outputs": []
    },
    {
      "cell_type": "markdown",
      "metadata": {
        "id": "5eAis4TtY8H1",
        "colab_type": "text"
      },
      "source": [
        "## Start a SparkSession\n",
        "\n"
      ]
    },
    {
      "cell_type": "code",
      "metadata": {
        "id": "zgReRGl0y23D",
        "colab_type": "code",
        "colab": {}
      },
      "source": [
        "import findspark\n",
        "findspark.init()\n",
        "from pyspark.sql import SparkSession\n",
        "\n",
        "# get a spark session. \n",
        "spark = SparkSession.builder.master(\"local[*]\").getOrCreate()"
      ],
      "execution_count": null,
      "outputs": []
    },
    {
      "cell_type": "code",
      "metadata": {
        "id": "rb-W3GhrV-EO",
        "colab_type": "code",
        "colab": {}
      },
      "source": [
        "from pyspark import SparkConf, SparkContext\n",
        "import collections\n",
        "\n",
        "from pyspark.sql.types import  (TimestampType)\n",
        "from pyspark.sql.functions import format_number\n",
        "from pyspark.sql.functions import month"
      ],
      "execution_count": null,
      "outputs": []
    },
    {
      "cell_type": "markdown",
      "metadata": {
        "id": "68riz57eV-EU",
        "colab_type": "text"
      },
      "source": [
        "### Create Dataframe in Spark!"
      ]
    },
    {
      "cell_type": "code",
      "metadata": {
        "id": "FmpXQ9YDV-EU",
        "colab_type": "code",
        "colab": {
          "base_uri": "https://localhost:8080/",
          "height": 54
        },
        "outputId": "0ef090e2-f155-4400-a364-505dfa9f97e7"
      },
      "source": [
        "#crimes = spark.read.csv('file:///Users/manha/Desktop/DSE-6000(S)/Class/Assignment/HW2/Crime_Chicago.csv', \n",
        "                  # inferSchema = True,\n",
        "                   # header = True)\n",
        "\n",
        "\n",
        "\n",
        "! [ ! -e \"$(basename crime_chicago.csv)\" ] && wget https://storage.googleapis.com/pyspark_assignment/crime_chicago.csv\n",
        "crimes= spark.read.csv('crime_chicago.csv',\n",
        "                     header= True, \n",
        "                     inferSchema = True)\n",
        "\n",
        "print(crimes.columns)"
      ],
      "execution_count": null,
      "outputs": [
        {
          "output_type": "stream",
          "text": [
            "['ID', 'Case Number', 'Date', 'Block', 'IUCR', 'Primary Type', 'Description', 'Location Description', 'Arrest', 'Domestic', 'Beat', 'District', 'Ward', 'Community Area', 'FBI Code', 'X Coordinate', 'Y Coordinate', 'Year', 'Updated On', 'Latitude', 'Longitude', 'Location', 'Historical Wards 2003-2015', 'Zip Codes', 'Community Areas', 'Census Tracts', 'Wards', 'Boundaries - ZIP Codes', 'Police Districts', 'Police Beats']\n"
          ],
          "name": "stdout"
        }
      ]
    },
    {
      "cell_type": "markdown",
      "metadata": {
        "id": "lzcEXfl1V-EX",
        "colab_type": "text"
      },
      "source": [
        "# Overview of the dataset\n",
        "### Shape of the dataframe\n",
        "In this section, I will check how many columns and rows in our dataset are and what their types are. I will also check the first five rows of all the dataset."
      ]
    },
    {
      "cell_type": "code",
      "metadata": {
        "id": "nE79N9L1V-EY",
        "colab_type": "code",
        "colab": {
          "base_uri": "https://localhost:8080/",
          "height": 51
        },
        "outputId": "9a3f8d03-5a77-4a9c-fde3-7edb5dea4e65"
      },
      "source": [
        "print(\" The crimes dataframe has {} records\".format(crimes.count()))\n",
        "\n",
        "print(\" The crimes dataframe has {} columns\".format(len(crimes.columns)))\n"
      ],
      "execution_count": null,
      "outputs": [
        {
          "output_type": "stream",
          "text": [
            " The crimes dataframe has 6963286 records\n",
            " The crimes dataframe has 30 columns\n"
          ],
          "name": "stdout"
        }
      ]
    },
    {
      "cell_type": "code",
      "metadata": {
        "scrolled": true,
        "id": "5QRKPNB3V-Ec",
        "colab_type": "code",
        "colab": {
          "base_uri": "https://localhost:8080/",
          "height": 224
        },
        "outputId": "8c03b7eb-3b9b-48b8-8c03-961d35ead158"
      },
      "source": [
        "crimes.show(5)\n"
      ],
      "execution_count": null,
      "outputs": [
        {
          "output_type": "stream",
          "text": [
            "+--------+-----------+--------------------+--------------------+----+---------------+--------------------+--------------------+------+--------+----+--------+----+--------------+--------+------------+------------+----+--------------------+------------+-------------+--------------------+--------------------------+---------+---------------+-------------+-----+----------------------+----------------+------------+\n",
            "|      ID|Case Number|                Date|               Block|IUCR|   Primary Type|         Description|Location Description|Arrest|Domestic|Beat|District|Ward|Community Area|FBI Code|X Coordinate|Y Coordinate|Year|          Updated On|    Latitude|    Longitude|            Location|Historical Wards 2003-2015|Zip Codes|Community Areas|Census Tracts|Wards|Boundaries - ZIP Codes|Police Districts|Police Beats|\n",
            "+--------+-----------+--------------------+--------------------+----+---------------+--------------------+--------------------+------+--------+----+--------+----+--------------+--------+------------+------------+----+--------------------+------------+-------------+--------------------+--------------------------+---------+---------------+-------------+-----+----------------------+----------------+------------+\n",
            "|11822700|   JC426287|09/06/2019 11:55:...|  012XX W ADDISON ST|0810|          THEFT|           OVER $500|           APARTMENT| false|   false|1924|      19|  44|             6|      06|     1167566|     1924050|2019|09/13/2019 04:16:...| 41.94714472|  -87.6594722|(41.94714472, -87...|                        38|    21186|             57|          728|   25|                    53|               5|          12|\n",
            "|11819855|   JC423179|09/06/2019 11:55:...|     005XX E 32ND ST|0486|        BATTERY|DOMESTIC BATTERY ...|           APARTMENT| false|    true| 211|       2|   4|            35|     08B|     1180539|     1883677|2019|09/13/2019 04:16:...|41.836069707|-87.613033345|(41.836069707, -8...|                         1|    21194|              1|          581|   10|                    40|              24|         169|\n",
            "|11819844|   JC423159|09/06/2019 11:53:...|017XX S MICHIGAN AVE|0320|        ROBBERY|STRONGARM - NO WE...| TAVERN/LIQUOR STORE| false|   false| 131|       1|   3|            33|      03|     1177496|     1891878|2019|09/13/2019 04:16:...|41.858643312|  -87.6239505|(41.858643312, -8...|                        48|    21194|             34|          374|    9|                    40|              22|         148|\n",
            "|11819848|   JC423127|09/06/2019 11:52:...|   005XX N DRAKE AVE|1320|CRIMINAL DAMAGE|          TO VEHICLE|              STREET| false|   false|1121|      11|  27|            23|      14|     1152622|     1903348|2019|09/13/2019 04:16:...|41.890645892|-87.714951125|(41.890645892, -8...|                        41|    21572|             24|          584|   46|                    30|              16|          65|\n",
            "|11819900|   JC423169|09/06/2019 11:50:...|     055XX S WOOD ST|0560|        ASSAULT|              SIMPLE|RESIDENCE PORCH/H...| false|   false| 715|       7|  15|            67|     08A|     1165296|     1867844|2019|09/13/2019 04:16:...|41.792959315|-87.669413975|(41.792959315, -8...|                        44|    22257|             65|          345|    3|                    23|              17|         270|\n",
            "+--------+-----------+--------------------+--------------------+----+---------------+--------------------+--------------------+------+--------+----+--------+----+--------------+--------+------------+------------+----+--------------------+------------+-------------+--------------------+--------------------------+---------+---------------+-------------+-----+----------------------+----------------+------------+\n",
            "only showing top 5 rows\n",
            "\n"
          ],
          "name": "stdout"
        }
      ]
    },
    {
      "cell_type": "markdown",
      "metadata": {
        "id": "SIR6Nc1rV-Ef",
        "colab_type": "text"
      },
      "source": [
        "### Checking datatypes of all the columns"
      ]
    },
    {
      "cell_type": "code",
      "metadata": {
        "id": "hfhhtIz1V-Eg",
        "colab_type": "code",
        "colab": {
          "base_uri": "https://localhost:8080/",
          "height": 527
        },
        "outputId": "3a1a95c0-3587-45c6-ac84-0c1fcc941975"
      },
      "source": [
        "\n",
        "crimes.dtypes"
      ],
      "execution_count": null,
      "outputs": [
        {
          "output_type": "execute_result",
          "data": {
            "text/plain": [
              "[('ID', 'int'),\n",
              " ('Case Number', 'string'),\n",
              " ('Date', 'string'),\n",
              " ('Block', 'string'),\n",
              " ('IUCR', 'string'),\n",
              " ('Primary Type', 'string'),\n",
              " ('Description', 'string'),\n",
              " ('Location Description', 'string'),\n",
              " ('Arrest', 'boolean'),\n",
              " ('Domestic', 'boolean'),\n",
              " ('Beat', 'int'),\n",
              " ('District', 'int'),\n",
              " ('Ward', 'int'),\n",
              " ('Community Area', 'int'),\n",
              " ('FBI Code', 'string'),\n",
              " ('X Coordinate', 'int'),\n",
              " ('Y Coordinate', 'int'),\n",
              " ('Year', 'int'),\n",
              " ('Updated On', 'string'),\n",
              " ('Latitude', 'double'),\n",
              " ('Longitude', 'double'),\n",
              " ('Location', 'string'),\n",
              " ('Historical Wards 2003-2015', 'int'),\n",
              " ('Zip Codes', 'int'),\n",
              " ('Community Areas', 'int'),\n",
              " ('Census Tracts', 'int'),\n",
              " ('Wards', 'int'),\n",
              " ('Boundaries - ZIP Codes', 'int'),\n",
              " ('Police Districts', 'int'),\n",
              " ('Police Beats', 'int')]"
            ]
          },
          "metadata": {
            "tags": []
          },
          "execution_count": 86
        }
      ]
    },
    {
      "cell_type": "code",
      "metadata": {
        "id": "XYNV4z0yV-Ei",
        "colab_type": "code",
        "colab": {
          "base_uri": "https://localhost:8080/",
          "height": 561
        },
        "outputId": "06505bfa-906f-4d1d-aab3-de500f6c4aa2"
      },
      "source": [
        "crimes.printSchema()"
      ],
      "execution_count": null,
      "outputs": [
        {
          "output_type": "stream",
          "text": [
            "root\n",
            " |-- ID: integer (nullable = true)\n",
            " |-- Case Number: string (nullable = true)\n",
            " |-- Date: string (nullable = true)\n",
            " |-- Block: string (nullable = true)\n",
            " |-- IUCR: string (nullable = true)\n",
            " |-- Primary Type: string (nullable = true)\n",
            " |-- Description: string (nullable = true)\n",
            " |-- Location Description: string (nullable = true)\n",
            " |-- Arrest: boolean (nullable = true)\n",
            " |-- Domestic: boolean (nullable = true)\n",
            " |-- Beat: integer (nullable = true)\n",
            " |-- District: integer (nullable = true)\n",
            " |-- Ward: integer (nullable = true)\n",
            " |-- Community Area: integer (nullable = true)\n",
            " |-- FBI Code: string (nullable = true)\n",
            " |-- X Coordinate: integer (nullable = true)\n",
            " |-- Y Coordinate: integer (nullable = true)\n",
            " |-- Year: integer (nullable = true)\n",
            " |-- Updated On: string (nullable = true)\n",
            " |-- Latitude: double (nullable = true)\n",
            " |-- Longitude: double (nullable = true)\n",
            " |-- Location: string (nullable = true)\n",
            " |-- Historical Wards 2003-2015: integer (nullable = true)\n",
            " |-- Zip Codes: integer (nullable = true)\n",
            " |-- Community Areas: integer (nullable = true)\n",
            " |-- Census Tracts: integer (nullable = true)\n",
            " |-- Wards: integer (nullable = true)\n",
            " |-- Boundaries - ZIP Codes: integer (nullable = true)\n",
            " |-- Police Districts: integer (nullable = true)\n",
            " |-- Police Beats: integer (nullable = true)\n",
            "\n"
          ],
          "name": "stdout"
        }
      ]
    },
    {
      "cell_type": "markdown",
      "metadata": {
        "id": "km7pZVL9V-El",
        "colab_type": "text"
      },
      "source": [
        "**We can quickly see the dataset of a specific column instead of whole dataset as shown below. We select one column using \"select\" option and shows the first 10 rows of \"Block\" column.**\n",
        "\n"
      ]
    },
    {
      "cell_type": "code",
      "metadata": {
        "id": "UwHj6YhMV-Em",
        "colab_type": "code",
        "colab": {
          "base_uri": "https://localhost:8080/",
          "height": 289
        },
        "outputId": "027396a4-1143-48d3-a876-50cb533e4fd3"
      },
      "source": [
        "crimes.select(\"Block\").show(10)"
      ],
      "execution_count": null,
      "outputs": [
        {
          "output_type": "stream",
          "text": [
            "+--------------------+\n",
            "|               Block|\n",
            "+--------------------+\n",
            "|  012XX W ADDISON ST|\n",
            "|     005XX E 32ND ST|\n",
            "|017XX S MICHIGAN AVE|\n",
            "|   005XX N DRAKE AVE|\n",
            "|     055XX S WOOD ST|\n",
            "| 011XX N MONITOR AVE|\n",
            "|116XX S CARPENTER ST|\n",
            "|056XX S MARYLAND AVE|\n",
            "|   033XX S MORGAN ST|\n",
            "|  033XX N PULASKI RD|\n",
            "+--------------------+\n",
            "only showing top 10 rows\n",
            "\n"
          ],
          "name": "stdout"
        }
      ]
    },
    {
      "cell_type": "markdown",
      "metadata": {
        "id": "gUbdxKrEV-Eo",
        "colab_type": "text"
      },
      "source": [
        "# Cleaning step"
      ]
    },
    {
      "cell_type": "markdown",
      "metadata": {
        "id": "OJoReP8hV-Ep",
        "colab_type": "text"
      },
      "source": [
        "### Removing rows with null values"
      ]
    },
    {
      "cell_type": "code",
      "metadata": {
        "id": "dl7yDRszV-Ep",
        "colab_type": "code",
        "colab": {
          "base_uri": "https://localhost:8080/",
          "height": 34
        },
        "outputId": "05a58cff-dbb2-44c4-fa76-b7a5464b4b0a"
      },
      "source": [
        "crimes=crimes.dropna()\n",
        "print(crimes.count())"
      ],
      "execution_count": null,
      "outputs": [
        {
          "output_type": "stream",
          "text": [
            "6260600\n"
          ],
          "name": "stdout"
        }
      ]
    },
    {
      "cell_type": "markdown",
      "metadata": {
        "id": "Rmp1HMbMV-Es",
        "colab_type": "text"
      },
      "source": [
        "### Dropping duplicate rows"
      ]
    },
    {
      "cell_type": "code",
      "metadata": {
        "id": "K-_I3a64V-Es",
        "colab_type": "code",
        "colab": {
          "base_uri": "https://localhost:8080/",
          "height": 34
        },
        "outputId": "2458a9c9-2357-4306-f2bd-ac26fbeeb567"
      },
      "source": [
        "crimes.drop_duplicates().count()"
      ],
      "execution_count": null,
      "outputs": [
        {
          "output_type": "execute_result",
          "data": {
            "text/plain": [
              "6260600"
            ]
          },
          "metadata": {
            "tags": []
          },
          "execution_count": 90
        }
      ]
    },
    {
      "cell_type": "markdown",
      "metadata": {
        "id": "pSNY6l92V-Ev",
        "colab_type": "text"
      },
      "source": [
        "\n",
        "### Checking if column name has space in between words\n",
        "For simplicity, the best practice is to remove spaces between words and substitute with underscore.\n",
        "Change column names."
      ]
    },
    {
      "cell_type": "code",
      "metadata": {
        "id": "EGuBCdYWV-Ew",
        "colab_type": "code",
        "colab": {}
      },
      "source": [
        "crimes = crimes.toDF('ID','Case_Number','Date','Block','IUCR','Primary_Type','Description','Location_Description','Arrest',\n",
        "             'Domestic','Beat','District','Ward','Community_Area','FBI_Code','X_Coordinate','Y_Coordinate','Year',\n",
        "             'Updated_On','Latitude','Longitude','Location','Historical_Wards_2003-2015','Zip_Codes',\n",
        "             'Community_Areas','Census_Tracts','Wards','Boundaries_ZIP_Codes','Police_Districts','Police_Beats')\n",
        "\n"
      ],
      "execution_count": null,
      "outputs": []
    },
    {
      "cell_type": "markdown",
      "metadata": {
        "id": "27H_wfh1V-Ey",
        "colab_type": "text"
      },
      "source": [
        "### Dropping extra columns I do not need"
      ]
    },
    {
      "cell_type": "code",
      "metadata": {
        "id": "-hDUcmtUV-Ez",
        "colab_type": "code",
        "colab": {
          "base_uri": "https://localhost:8080/",
          "height": 54
        },
        "outputId": "ffbfb5d0-fbb3-4818-b493-69c9874520c4"
      },
      "source": [
        "crimes = crimes.drop('IUCR','Ward','FBI_Code','Updated_On','Location_Description','Historical_Wards_2003-2015','Zip_Codes',\n",
        "                            'Community_Areas','Census_Tracts','Wards','Boundaries_-_ZIP_Codes','Police_Beats','Beat')\n",
        "\n",
        "print(crimes.columns)"
      ],
      "execution_count": null,
      "outputs": [
        {
          "output_type": "stream",
          "text": [
            "['ID', 'Case_Number', 'Date', 'Block', 'Primary_Type', 'Description', 'Arrest', 'Domestic', 'District', 'Community_Area', 'X_Coordinate', 'Y_Coordinate', 'Year', 'Latitude', 'Longitude', 'Location', 'Boundaries_ZIP_Codes', 'Police_Districts']\n"
          ],
          "name": "stdout"
        }
      ]
    },
    {
      "cell_type": "markdown",
      "metadata": {
        "id": "Z4ilIuo9V-E1",
        "colab_type": "text"
      },
      "source": [
        "### Changing the column names to lower case"
      ]
    },
    {
      "cell_type": "code",
      "metadata": {
        "id": "A5NDl5WNV-E1",
        "colab_type": "code",
        "colab": {
          "base_uri": "https://localhost:8080/",
          "height": 54
        },
        "outputId": "cb0fcf91-945b-42c8-8bdb-97330f39f6d0"
      },
      "source": [
        "for col in crimes.columns:\n",
        "    crimes = crimes.withColumnRenamed(col, col.lower())\n",
        "print(crimes.columns)"
      ],
      "execution_count": null,
      "outputs": [
        {
          "output_type": "stream",
          "text": [
            "['id', 'case_number', 'date', 'block', 'primary_type', 'description', 'arrest', 'domestic', 'district', 'community_area', 'x_coordinate', 'y_coordinate', 'year', 'latitude', 'longitude', 'location', 'boundaries_zip_codes', 'police_districts']\n"
          ],
          "name": "stdout"
        }
      ]
    },
    {
      "cell_type": "markdown",
      "metadata": {
        "id": "cVB7c6_1V-E4",
        "colab_type": "text"
      },
      "source": [
        "### Renaming columns in dataframe \n",
        "\n",
        "In the below code chunk, we are renaming a column in the dataset"
      ]
    },
    {
      "cell_type": "code",
      "metadata": {
        "id": "6V4wMAzbV-E5",
        "colab_type": "code",
        "colab": {
          "base_uri": "https://localhost:8080/",
          "height": 54
        },
        "outputId": "7c629cf3-4743-43b4-9358-da88265eebad"
      },
      "source": [
        "crimes = crimes.withColumnRenamed(\"primary_type\", \"crime_type\")\n",
        "print(crimes.columns)"
      ],
      "execution_count": null,
      "outputs": [
        {
          "output_type": "stream",
          "text": [
            "['id', 'case_number', 'date', 'block', 'crime_type', 'description', 'arrest', 'domestic', 'district', 'community_area', 'x_coordinate', 'y_coordinate', 'year', 'latitude', 'longitude', 'location', 'boundaries_zip_codes', 'police_districts']\n"
          ],
          "name": "stdout"
        }
      ]
    },
    {
      "cell_type": "markdown",
      "metadata": {
        "id": "Z6_K2R1zV-E7",
        "colab_type": "text"
      },
      "source": [
        "### Converting dates to timestamp format \n",
        "The Date column is in string format. Let's change it to timestamp format using the user defined functions.\n",
        "withColumn helps to create a new column and we remove one or more columns with drop.I will convert dates to timestamp format which will help me a lot later on. \n",
        "\n"
      ]
    },
    {
      "cell_type": "code",
      "metadata": {
        "id": "647SplOWV-E8",
        "colab_type": "code",
        "colab": {
          "base_uri": "https://localhost:8080/",
          "height": 204
        },
        "outputId": "3dcdf3da-a63d-4e0f-83ee-9e99fcd04352"
      },
      "source": [
        "# Let's check the initial date column\n",
        "crimes.select(\"date\").show(5, truncate = False)\n",
        "                           "
      ],
      "execution_count": null,
      "outputs": [
        {
          "output_type": "stream",
          "text": [
            "+----------------------+\n",
            "|date                  |\n",
            "+----------------------+\n",
            "|09/06/2019 11:55:00 PM|\n",
            "|09/06/2019 11:55:00 PM|\n",
            "|09/06/2019 11:53:00 PM|\n",
            "|09/06/2019 11:52:00 PM|\n",
            "|09/06/2019 11:50:00 PM|\n",
            "+----------------------+\n",
            "only showing top 5 rows\n",
            "\n"
          ],
          "name": "stdout"
        }
      ]
    },
    {
      "cell_type": "code",
      "metadata": {
        "id": "GA9C1EjmV-FB",
        "colab_type": "code",
        "colab": {
          "base_uri": "https://localhost:8080/",
          "height": 204
        },
        "outputId": "bca70b41-5028-465f-fd90-46e7fa80fafe"
      },
      "source": [
        "# Converting date column to timestamps format. \n",
        "from datetime import datetime\n",
        "from pyspark.sql.functions import col,udf\n",
        "from pyspark.sql.types import  (TimestampType)\n",
        "myfunc =  udf(lambda x: datetime.strptime(x, '%m/%d/%Y %I:%M:%S %p'), TimestampType())\n",
        "crimes = crimes.withColumn('date_time', myfunc(col('date'))).drop(\"date\")\n",
        "\n",
        "crimes.select(crimes[\"date_time\"]).show(5)"
      ],
      "execution_count": null,
      "outputs": [
        {
          "output_type": "stream",
          "text": [
            "+-------------------+\n",
            "|          date_time|\n",
            "+-------------------+\n",
            "|2019-09-06 23:55:00|\n",
            "|2019-09-06 23:55:00|\n",
            "|2019-09-06 23:53:00|\n",
            "|2019-09-06 23:52:00|\n",
            "|2019-09-06 23:50:00|\n",
            "+-------------------+\n",
            "only showing top 5 rows\n",
            "\n"
          ],
          "name": "stdout"
        }
      ]
    },
    {
      "cell_type": "markdown",
      "metadata": {
        "id": "Oiiz8MbvV-FE",
        "colab_type": "text"
      },
      "source": [
        "## Data analysis"
      ]
    },
    {
      "cell_type": "markdown",
      "metadata": {
        "id": "pNEd3yAvV-FF",
        "colab_type": "text"
      },
      "source": [
        "### Calculating statistics of numeric and string columns\n",
        "I will calculate the statistics of string and numeric columns using describe. When we select more than one columns, we have to pass the column names as a python list."
      ]
    },
    {
      "cell_type": "code",
      "metadata": {
        "id": "nb7-t2sWV-FF",
        "colab_type": "code",
        "colab": {
          "base_uri": "https://localhost:8080/",
          "height": 207
        },
        "outputId": "8c59f232-bc05-4587-c165-99bd866bf3bf"
      },
      "source": [
        "crimes.select([\"crime_type\",\"latitude\",\"longitude\",\"x_coordinate\", \"y_coordinate\",\"year\"]).describe().show()\n",
        " \n"
      ],
      "execution_count": null,
      "outputs": [
        {
          "output_type": "stream",
          "text": [
            "+-------+-----------------+-------------------+-------------------+------------------+------------------+------------------+\n",
            "|summary|       crime_type|           latitude|          longitude|      x_coordinate|      y_coordinate|              year|\n",
            "+-------+-----------------+-------------------+-------------------+------------------+------------------+------------------+\n",
            "|  count|          6260600|            6260600|            6260600|           6260600|           6260600|           6260600|\n",
            "|   mean|             null|  41.84172226834295| -87.67146301860431|1164612.0075676453|1885614.3465322813|2009.3613969907037|\n",
            "| stddev|             null|0.08618143754829734|0.05872770724926101|16137.106412858006|31336.436030737987| 4.932564528722894|\n",
            "|    min|            ARSON|       41.644588224|      -87.934324301|           1092711|           1813896|              2001|\n",
            "|    max|WEAPONS VIOLATION|       42.022709624|      -87.524529859|           1205116|           1951573|              2019|\n",
            "+-------+-----------------+-------------------+-------------------+------------------+------------------+------------------+\n",
            "\n"
          ],
          "name": "stdout"
        }
      ]
    },
    {
      "cell_type": "markdown",
      "metadata": {
        "id": "f7Drub2SV-FI",
        "colab_type": "text"
      },
      "source": [
        "**The above numbers do not look very good. Let's round them using format_number from PySpark's functions.**\n",
        "\n"
      ]
    },
    {
      "cell_type": "code",
      "metadata": {
        "id": "HSK8pNaSV-FI",
        "colab_type": "code",
        "colab": {
          "base_uri": "https://localhost:8080/",
          "height": 187
        },
        "outputId": "3ef8ecff-52da-4f29-9d1a-c80d3efea300"
      },
      "source": [
        "result = crimes.select([\"crime_type\",\"latitude\",\"longitude\",\"x_coordinate\",\"y_coordinate\",\"year\"]).describe()\n",
        "result.select(result['summary'],\n",
        "              format_number(result[\"crime_type\"].cast('float'),2).alias(\"crime_type\"),\n",
        "              format_number(result[\"latitude\"].cast('float'),2).alias(\"latitude\"),\n",
        "              format_number(result[\"longitude\"].cast('float'),2).alias(\"longitude\"),\n",
        "              format_number(result[\"x_coordinate\"].cast('float'),2).alias(\"x_coordinate\"),\n",
        "              format_number(result[\"y_coordinate\"].cast('float'),2).alias(\"y_coordinate\"),\n",
        "              format_number(result[\"year\"].cast('float'),2).alias(\"year\")\n",
        "             ).show()"
      ],
      "execution_count": null,
      "outputs": [
        {
          "output_type": "stream",
          "text": [
            "+-------+------------+------------+------------+------------+------------+------------+\n",
            "|summary|  crime_type|    latitude|   longitude|x_coordinate|y_coordinate|        year|\n",
            "+-------+------------+------------+------------+------------+------------+------------+\n",
            "|  count|6,260,600.00|6,260,600.00|6,260,600.00|6,260,600.00|6,260,600.00|6,260,600.00|\n",
            "|   mean|        null|       41.84|      -87.67|1,164,612.00|1,885,614.38|    2,009.36|\n",
            "| stddev|        null|        0.09|        0.06|   16,137.11|   31,336.44|        4.93|\n",
            "|    min|        null|       41.64|      -87.93|1,092,711.00|1,813,896.00|    2,001.00|\n",
            "|    max|        null|       42.02|      -87.52|1,205,116.00|1,951,573.00|    2,019.00|\n",
            "+-------+------------+------------+------------+------------+------------+------------+\n",
            "\n"
          ],
          "name": "stdout"
        }
      ]
    },
    {
      "cell_type": "markdown",
      "metadata": {
        "id": "kIgr2GIMV-FK",
        "colab_type": "text"
      },
      "source": [
        "### Using PySpark's functions we can calculate various statistics\n",
        "#### Calculating average for latitude value and longitude value.\n"
      ]
    },
    {
      "cell_type": "code",
      "metadata": {
        "id": "Ds-fZ-acV-FL",
        "colab_type": "code",
        "colab": {
          "base_uri": "https://localhost:8080/",
          "height": 425
        },
        "outputId": "1062ea02-3b9b-45e4-bf73-26a3ed3168f1"
      },
      "source": [
        "from pyspark.sql.functions import mean\n",
        "#Latitude\n",
        "crimes.select(mean(\"latitude\")).alias(\"Mean latitude\").show()\n",
        "# We can also use the agg method to calculate the average.\n",
        "crimes.agg({\"latitude\":\"avg\"}).show()\n",
        "\n",
        "#Longitude\n",
        "from pyspark.sql.functions import mean\n",
        "crimes.select(mean(\"longitude\")).alias(\"Mean longitude\").show()\n",
        "crimes.agg({\"longitude\":\"avg\"}).show()"
      ],
      "execution_count": null,
      "outputs": [
        {
          "output_type": "stream",
          "text": [
            "+-----------------+\n",
            "|    avg(latitude)|\n",
            "+-----------------+\n",
            "|41.84172226834295|\n",
            "+-----------------+\n",
            "\n",
            "+-----------------+\n",
            "|    avg(latitude)|\n",
            "+-----------------+\n",
            "|41.84172226834295|\n",
            "+-----------------+\n",
            "\n",
            "+------------------+\n",
            "|    avg(longitude)|\n",
            "+------------------+\n",
            "|-87.67146301860431|\n",
            "+------------------+\n",
            "\n",
            "+------------------+\n",
            "|    avg(longitude)|\n",
            "+------------------+\n",
            "|-87.67146301860431|\n",
            "+------------------+\n",
            "\n"
          ],
          "name": "stdout"
        }
      ]
    },
    {
      "cell_type": "markdown",
      "metadata": {
        "id": "Drx0v_f6V-FN",
        "colab_type": "text"
      },
      "source": [
        "#### Calculating maximum and minimum values.\n"
      ]
    },
    {
      "cell_type": "code",
      "metadata": {
        "id": "Cf7LfFQtV-FN",
        "colab_type": "code",
        "colab": {
          "base_uri": "https://localhost:8080/",
          "height": 221
        },
        "outputId": "42692d95-cb44-49a8-d847-972e4152bf78"
      },
      "source": [
        "from pyspark.sql.functions import max,min\n",
        "crimes.select(max(\"x_coordinate\"),min(\"x_coordinate\")).show()\n",
        "crimes.select(max(\"y_coordinate\"),min(\"y_coordinate\")).show()"
      ],
      "execution_count": null,
      "outputs": [
        {
          "output_type": "stream",
          "text": [
            "+-----------------+-----------------+\n",
            "|max(x_coordinate)|min(x_coordinate)|\n",
            "+-----------------+-----------------+\n",
            "|          1205116|          1092711|\n",
            "+-----------------+-----------------+\n",
            "\n",
            "+-----------------+-----------------+\n",
            "|max(y_coordinate)|min(y_coordinate)|\n",
            "+-----------------+-----------------+\n",
            "|          1951573|          1813896|\n",
            "+-----------------+-----------------+\n",
            "\n"
          ],
          "name": "stdout"
        }
      ]
    },
    {
      "cell_type": "markdown",
      "metadata": {
        "id": "sHeoEE1sV-FQ",
        "colab_type": "text"
      },
      "source": [
        "### Finding the location with maximum and minimum crimes\n",
        "\n",
        "\n"
      ]
    },
    {
      "cell_type": "code",
      "metadata": {
        "id": "Xhi0kPyfV-FQ",
        "colab_type": "code",
        "colab": {
          "base_uri": "https://localhost:8080/",
          "height": 901
        },
        "outputId": "a203e95e-0072-4db0-aae4-457b63ef4f7b"
      },
      "source": [
        "df=crimes.select('crime_type','year','location','domestic')\n",
        "\n",
        "min_val = df.agg({'crime_type':'max'}).collect()[0][0] \n",
        "max_val=df.agg({'crime_type':'min'}).collect()[0][0] \n",
        "df.where(df['crime_type']==max_val).show()\n",
        "df.where(df['crime_type']==min_val).show()"
      ],
      "execution_count": null,
      "outputs": [
        {
          "output_type": "stream",
          "text": [
            "+----------+----+--------------------+--------+\n",
            "|crime_type|year|            location|domestic|\n",
            "+----------+----+--------------------+--------+\n",
            "|     ARSON|2019|(41.902718047, -8...|   false|\n",
            "|     ARSON|2019|(41.693044285, -8...|   false|\n",
            "|     ARSON|2019|(41.87828717, -87...|   false|\n",
            "|     ARSON|2019|(41.747878602, -8...|   false|\n",
            "|     ARSON|2019|(41.943217294, -8...|   false|\n",
            "|     ARSON|2019|(41.777261623, -8...|   false|\n",
            "|     ARSON|2019|(41.889894019, -8...|   false|\n",
            "|     ARSON|2019|(41.881863028, -8...|   false|\n",
            "|     ARSON|2019|(41.80223336, -87...|   false|\n",
            "|     ARSON|2019|(41.820914589, -8...|   false|\n",
            "|     ARSON|2019|(41.974208525, -8...|   false|\n",
            "|     ARSON|2019|(41.739662581, -8...|    true|\n",
            "|     ARSON|2019|(41.878741684, -8...|   false|\n",
            "|     ARSON|2019|(41.840255102, -8...|   false|\n",
            "|     ARSON|2019|(41.782492024, -8...|   false|\n",
            "|     ARSON|2019|(41.782492024, -8...|   false|\n",
            "|     ARSON|2019|(41.854358931, -8...|   false|\n",
            "|     ARSON|2019|(41.897736958, -8...|   false|\n",
            "|     ARSON|2019|(41.77696521, -87...|   false|\n",
            "|     ARSON|2019|(41.731564657, -8...|   false|\n",
            "+----------+----+--------------------+--------+\n",
            "only showing top 20 rows\n",
            "\n",
            "+-----------------+----+--------------------+--------+\n",
            "|       crime_type|year|            location|domestic|\n",
            "+-----------------+----+--------------------+--------+\n",
            "|WEAPONS VIOLATION|2019|(41.921272161, -8...|   false|\n",
            "|WEAPONS VIOLATION|2019|(41.946254007, -8...|   false|\n",
            "|WEAPONS VIOLATION|2019|(41.877953918, -8...|   false|\n",
            "|WEAPONS VIOLATION|2019|(41.890022694, -8...|   false|\n",
            "|WEAPONS VIOLATION|2019|(41.791344693, -8...|   false|\n",
            "|WEAPONS VIOLATION|2019|(41.77707292, -87...|   false|\n",
            "|WEAPONS VIOLATION|2019|(41.74590229, -87...|   false|\n",
            "|WEAPONS VIOLATION|2019|(41.768033782, -8...|   false|\n",
            "|WEAPONS VIOLATION|2019|(41.811043995, -8...|   false|\n",
            "|WEAPONS VIOLATION|2019|(41.912715371, -8...|   false|\n",
            "|WEAPONS VIOLATION|2019|(41.78542738, -87...|   false|\n",
            "|WEAPONS VIOLATION|2019|(41.787385916, -8...|   false|\n",
            "|WEAPONS VIOLATION|2019|(41.738732973, -8...|   false|\n",
            "|WEAPONS VIOLATION|2019|(41.93142172, -87...|   false|\n",
            "|WEAPONS VIOLATION|2019|(41.772369684, -8...|   false|\n",
            "|WEAPONS VIOLATION|2019|(41.760589117, -8...|   false|\n",
            "|WEAPONS VIOLATION|2019|(41.769624954, -8...|   false|\n",
            "|WEAPONS VIOLATION|2019|(41.706884744, -8...|   false|\n",
            "|WEAPONS VIOLATION|2019|(41.751941187, -8...|   false|\n",
            "|WEAPONS VIOLATION|2019|(41.707690243, -8...|   false|\n",
            "+-----------------+----+--------------------+--------+\n",
            "only showing top 20 rows\n",
            "\n"
          ],
          "name": "stdout"
        }
      ]
    },
    {
      "cell_type": "markdown",
      "metadata": {
        "id": "O-4IKueeV-FS",
        "colab_type": "text"
      },
      "source": [
        "## Crime_Types"
      ]
    },
    {
      "cell_type": "markdown",
      "metadata": {
        "id": "d9wk3_MNV-FT",
        "colab_type": "text"
      },
      "source": [
        "### How many primary crime types are there?\n",
        "\"distinct\" function returns unique elements form the column."
      ]
    },
    {
      "cell_type": "code",
      "metadata": {
        "id": "PaONk7clV-FU",
        "colab_type": "code",
        "colab": {
          "base_uri": "https://localhost:8080/",
          "height": 34
        },
        "outputId": "e11b46d9-33f5-4fbe-a03a-63b777237066"
      },
      "source": [
        "print(\" There are {} types of crimes\".format(crimes.select(\"crime_type\").distinct().count()))\n"
      ],
      "execution_count": null,
      "outputs": [
        {
          "output_type": "stream",
          "text": [
            " There are 34 types of crimes\n"
          ],
          "name": "stdout"
        }
      ]
    },
    {
      "cell_type": "markdown",
      "metadata": {
        "id": "YauSB769V-FW",
        "colab_type": "text"
      },
      "source": [
        "#### The code shown below shows a list of  primary crime types."
      ]
    },
    {
      "cell_type": "code",
      "metadata": {
        "id": "U4ibWkBOV-FX",
        "colab_type": "code",
        "colab": {
          "base_uri": "https://localhost:8080/",
          "height": 459
        },
        "outputId": "877bea7d-4019-45a2-8d5e-0541f14b0fa2"
      },
      "source": [
        "crimes.groupBy(\"crime_type\").count().show()\n"
      ],
      "execution_count": null,
      "outputs": [
        {
          "output_type": "stream",
          "text": [
            "+--------------------+-------+\n",
            "|          crime_type|  count|\n",
            "+--------------------+-------+\n",
            "|OFFENSE INVOLVING...|  42264|\n",
            "|            STALKING|   3250|\n",
            "|PUBLIC PEACE VIOL...|  45307|\n",
            "|           OBSCENITY|    574|\n",
            "|NON-CRIMINAL (SUB...|      9|\n",
            "|               ARSON|  10049|\n",
            "|            GAMBLING|  13299|\n",
            "|   CRIMINAL TRESPASS| 180123|\n",
            "|             ASSAULT| 392527|\n",
            "|      NON - CRIMINAL|     38|\n",
            "|LIQUOR LAW VIOLATION|  12107|\n",
            "| MOTOR VEHICLE THEFT| 285412|\n",
            "|               THEFT|1323216|\n",
            "|             BATTERY|1146235|\n",
            "|             ROBBERY| 236983|\n",
            "|            HOMICIDE|   9470|\n",
            "|           RITUALISM|     14|\n",
            "|    PUBLIC INDECENCY|    156|\n",
            "| CRIM SEXUAL ASSAULT|  24894|\n",
            "|   HUMAN TRAFFICKING|     57|\n",
            "+--------------------+-------+\n",
            "only showing top 20 rows\n",
            "\n"
          ],
          "name": "stdout"
        }
      ]
    },
    {
      "cell_type": "markdown",
      "metadata": {
        "id": "T5QtEm-XV-Fb",
        "colab_type": "text"
      },
      "source": [
        "### How many thefts are there in Chicago?\n",
        "\n"
      ]
    },
    {
      "cell_type": "code",
      "metadata": {
        "id": "AOT9P_RaV-Fb",
        "colab_type": "code",
        "colab": {
          "base_uri": "https://localhost:8080/",
          "height": 34
        },
        "outputId": "ae170463-03d1-41f6-fbd4-afb1312e5b27"
      },
      "source": [
        "print(\" There are total {} thefts in Chicago\".format(crimes.where(crimes[\"crime_type\"] == \"THEFT\").count()))\n",
        "#crimes.where(crimes[\"crime_type\"] == \"THEFT\").count()"
      ],
      "execution_count": null,
      "outputs": [
        {
          "output_type": "stream",
          "text": [
            " There are total 1323216 thefts in Chicago\n"
          ],
          "name": "stdout"
        }
      ]
    },
    {
      "cell_type": "markdown",
      "metadata": {
        "id": "5NlgN1F9V-Fe",
        "colab_type": "text"
      },
      "source": [
        "### How many thefts were arrested in Chicago?"
      ]
    },
    {
      "cell_type": "code",
      "metadata": {
        "id": "wHKXkftEV-Fe",
        "colab_type": "code",
        "colab": {
          "base_uri": "https://localhost:8080/",
          "height": 34
        },
        "outputId": "5bf1dfd1-68c5-4c36-ab93-33c48122e1fc"
      },
      "source": [
        "\n",
        "crimes.filter((crimes[\"crime_type\"]==\"THEFT\") & (crimes[\"arrest\"]==\"Yes\")).count()"
      ],
      "execution_count": null,
      "outputs": [
        {
          "output_type": "execute_result",
          "data": {
            "text/plain": [
              "151962"
            ]
          },
          "metadata": {
            "tags": []
          },
          "execution_count": 105
        }
      ]
    },
    {
      "cell_type": "markdown",
      "metadata": {
        "id": "mvJkx2mFV-Fh",
        "colab_type": "text"
      },
      "source": [
        "### How many thefts were not arrested in Chicago?"
      ]
    },
    {
      "cell_type": "code",
      "metadata": {
        "id": "iSz9LNQwV-Fh",
        "colab_type": "code",
        "colab": {
          "base_uri": "https://localhost:8080/",
          "height": 34
        },
        "outputId": "c115c5be-360a-47af-b8e4-f440d846ecd7"
      },
      "source": [
        "crimes.filter((crimes[\"crime_type\"]==\"THEFT\") & (crimes[\"arrest\"]==\"No\")).count()"
      ],
      "execution_count": null,
      "outputs": [
        {
          "output_type": "execute_result",
          "data": {
            "text/plain": [
              "1171254"
            ]
          },
          "metadata": {
            "tags": []
          },
          "execution_count": 106
        }
      ]
    },
    {
      "cell_type": "markdown",
      "metadata": {
        "id": "WlHbGI35V-Fj",
        "colab_type": "text"
      },
      "source": [
        "### How many domestic assualts were there?"
      ]
    },
    {
      "cell_type": "code",
      "metadata": {
        "id": "azFNXbumV-Fk",
        "colab_type": "code",
        "colab": {
          "base_uri": "https://localhost:8080/",
          "height": 34
        },
        "outputId": "962f01ca-5be7-47f0-97cc-bb4f3a1075e6"
      },
      "source": [
        "crimes.filter((crimes[\"crime_type\"] == \"ASSAULT\") & (crimes[\"domestic\"] == \"True\")).count()\n"
      ],
      "execution_count": null,
      "outputs": [
        {
          "output_type": "execute_result",
          "data": {
            "text/plain": [
              "86481"
            ]
          },
          "metadata": {
            "tags": []
          },
          "execution_count": 107
        }
      ]
    },
    {
      "cell_type": "markdown",
      "metadata": {
        "id": "KQDe9IdKV-Fo",
        "colab_type": "text"
      },
      "source": [
        "### How many sex offenders were arrested?\n"
      ]
    },
    {
      "cell_type": "code",
      "metadata": {
        "id": "TDyVfOB9V-Fo",
        "colab_type": "code",
        "colab": {
          "base_uri": "https://localhost:8080/",
          "height": 34
        },
        "outputId": "468f2e2e-f2fc-421a-d2cd-fc7c438fafcf"
      },
      "source": [
        "columns = [\"crime_type\", 'arrest', 'domestic']\n",
        "\n",
        "crimes.where((crimes[\"crime_type\"] == \"SEX OFFENSE\") & (crimes[\"arrest\"] == \"true\")).select(columns).count()"
      ],
      "execution_count": null,
      "outputs": [
        {
          "output_type": "execute_result",
          "data": {
            "text/plain": [
              "6677"
            ]
          },
          "metadata": {
            "tags": []
          },
          "execution_count": 108
        }
      ]
    },
    {
      "cell_type": "markdown",
      "metadata": {
        "id": "tUSEzR6dV-Fr",
        "colab_type": "text"
      },
      "source": [
        "### Percentage of crime_type NARCOTICS "
      ]
    },
    {
      "cell_type": "code",
      "metadata": {
        "id": "0AZxAbX5V-Fs",
        "colab_type": "code",
        "colab": {
          "base_uri": "https://localhost:8080/",
          "height": 34
        },
        "outputId": "b1233277-8854-4dfc-9033-179600eaa636"
      },
      "source": [
        "crimes.filter(crimes.crime_type.rlike(\"NARCOTICS\")).count()/crimes.count() * 100"
      ],
      "execution_count": null,
      "outputs": [
        {
          "output_type": "execute_result",
          "data": {
            "text/plain": [
              "10.309235536530045"
            ]
          },
          "metadata": {
            "tags": []
          },
          "execution_count": 109
        }
      ]
    },
    {
      "cell_type": "markdown",
      "metadata": {
        "id": "4NDzSD9417WM",
        "colab_type": "text"
      },
      "source": [
        "### Organizing the dataset based on case no in descending order."
      ]
    },
    {
      "cell_type": "code",
      "metadata": {
        "id": "D2XD4W4NV-Fx",
        "colab_type": "code",
        "colab": {
          "base_uri": "https://localhost:8080/",
          "height": 204
        },
        "outputId": "bea0bcba-8c5f-49d4-ed0e-75aa23e0ab13"
      },
      "source": [
        "df = ['crime_type', 'description', 'arrest', 'domestic','case_number']\n",
        "crimes.orderBy(crimes['case_number'].desc()).select(df).show(5)"
      ],
      "execution_count": null,
      "outputs": [
        {
          "output_type": "stream",
          "text": [
            "+---------------+-------------------+------+--------+-----------+\n",
            "|     crime_type|        description|arrest|domestic|case_number|\n",
            "+---------------+-------------------+------+--------+-----------+\n",
            "|          THEFT|     $500 AND UNDER| false|   false|  ZZZ199957|\n",
            "|          THEFT|     $500 AND UNDER| false|   false|   ZZ740108|\n",
            "|CRIMINAL DAMAGE|CRIMINAL DEFACEMENT| false|   false|   ZZ696090|\n",
            "|          THEFT|      FROM BUILDING| false|   false|   ZZ591134|\n",
            "|CRIMINAL DAMAGE|CRIMINAL DEFACEMENT| false|   false|   ZZ572583|\n",
            "+---------------+-------------------+------+--------+-----------+\n",
            "only showing top 5 rows\n",
            "\n"
          ],
          "name": "stdout"
        }
      ]
    },
    {
      "cell_type": "markdown",
      "metadata": {
        "id": "OIaiGmQ91oL5",
        "colab_type": "text"
      },
      "source": [
        "### We can use limit function to restrict the number of columns we want to retrieve from a dataframe."
      ]
    },
    {
      "cell_type": "code",
      "metadata": {
        "id": "LvZYpdeYDNmc",
        "colab_type": "code",
        "colab": {
          "base_uri": "https://localhost:8080/",
          "height": 272
        },
        "outputId": "c93a58fd-70fd-47cc-d29d-663d719ef352"
      },
      "source": [
        "crimes.select(df).limit(10). show(truncate = True)\n"
      ],
      "execution_count": null,
      "outputs": [
        {
          "output_type": "stream",
          "text": [
            "+-----------------+--------------------+------+--------+-----------+\n",
            "|       crime_type|         description|arrest|domestic|case_number|\n",
            "+-----------------+--------------------+------+--------+-----------+\n",
            "|            THEFT|           OVER $500| false|   false|   JC426287|\n",
            "|          BATTERY|DOMESTIC BATTERY ...| false|    true|   JC423179|\n",
            "|          ROBBERY|STRONGARM - NO WE...| false|   false|   JC423159|\n",
            "|  CRIMINAL DAMAGE|          TO VEHICLE| false|   false|   JC423127|\n",
            "|          ASSAULT|              SIMPLE| false|   false|   JC423169|\n",
            "|          BATTERY|DOMESTIC BATTERY ...| false|    true|   JC423147|\n",
            "|  CRIMINAL DAMAGE|          TO VEHICLE| false|    true|   JC423139|\n",
            "|          BATTERY| AGGRAVATED: HANDGUN| false|   false|   JC423190|\n",
            "|        NARCOTICS|   POSS: BARBITUATES|  true|   false|   JC423150|\n",
            "|CRIMINAL TRESPASS|             TO LAND| false|   false|   JC423140|\n",
            "+-----------------+--------------------+------+--------+-----------+\n",
            "\n"
          ],
          "name": "stdout"
        }
      ]
    },
    {
      "cell_type": "markdown",
      "metadata": {
        "id": "HdOom1bNEMnk",
        "colab_type": "text"
      },
      "source": [
        "### Creating new column from the existing column\n",
        "\n"
      ]
    },
    {
      "cell_type": "code",
      "metadata": {
        "id": "X_dvGlDWFTXY",
        "colab_type": "code",
        "colab": {
          "base_uri": "https://localhost:8080/",
          "height": 34
        },
        "outputId": "d8f3a52e-62ca-4adf-8a28-db4dfcc20e60"
      },
      "source": [
        "lat_max = crimes.agg({\"latitude\" : \"max\"}).collect()[0][0]\n",
        "\n",
        "print(\"The maximum latitude values is {}\".format(lat_max))\n"
      ],
      "execution_count": null,
      "outputs": [
        {
          "output_type": "stream",
          "text": [
            "The maximum latitude values is 42.022709624\n"
          ],
          "name": "stdout"
        }
      ]
    },
    {
      "cell_type": "markdown",
      "metadata": {
        "id": "P1tn_3svFaak",
        "colab_type": "text"
      },
      "source": [
        "Let's subtract each latitude value from the maximum latitude."
      ]
    },
    {
      "cell_type": "code",
      "metadata": {
        "id": "aEuW_KQ3FeAg",
        "colab_type": "code",
        "colab": {
          "base_uri": "https://localhost:8080/",
          "height": 204
        },
        "outputId": "2bcb7fa1-69f1-4cf6-bd5d-568d3b802ce6"
      },
      "source": [
        "df = crimes.withColumn(\"difference_from_max_lat\",lat_max - crimes[\"latitude\"])\n",
        "df.select([\"latitude\", \"difference_from_max_lat\"]).show(5)"
      ],
      "execution_count": null,
      "outputs": [
        {
          "output_type": "stream",
          "text": [
            "+------------+-----------------------+\n",
            "|    latitude|difference_from_max_lat|\n",
            "+------------+-----------------------+\n",
            "| 41.94714472|    0.07556490400000371|\n",
            "|41.836069707|    0.18663991700000082|\n",
            "|41.858643312|    0.16406631200000277|\n",
            "|41.890645892|    0.13206373199999888|\n",
            "|41.792959315|    0.22975030900000348|\n",
            "+------------+-----------------------+\n",
            "only showing top 5 rows\n",
            "\n"
          ],
          "name": "stdout"
        }
      ]
    },
    {
      "cell_type": "markdown",
      "metadata": {
        "id": "iVz7m_yKV-Fz",
        "colab_type": "text"
      },
      "source": [
        "## Time analysis"
      ]
    },
    {
      "cell_type": "code",
      "metadata": {
        "id": "AuxO2cPVV-F0",
        "colab_type": "code",
        "colab": {
          "base_uri": "https://localhost:8080/",
          "height": 224
        },
        "outputId": "5b4a5641-19df-4bbb-8edc-aa5b9526a402"
      },
      "source": [
        "Year_df = crimes.sort((crimes.year).desc()).show(5)"
      ],
      "execution_count": null,
      "outputs": [
        {
          "output_type": "stream",
          "text": [
            "+--------+-----------+--------------------+---------------+--------------------+------+--------+--------+--------------+------------+------------+----+------------+-------------+--------------------+--------------------+----------------+-------------------+\n",
            "|      id|case_number|               block|     crime_type|         description|arrest|domestic|district|community_area|x_coordinate|y_coordinate|year|    latitude|    longitude|            location|boundaries_zip_codes|police_districts|          date_time|\n",
            "+--------+-----------+--------------------+---------------+--------------------+------+--------+--------+--------------+------------+------------+----+------------+-------------+--------------------+--------------------+----------------+-------------------+\n",
            "|11819900|   JC423169|     055XX S WOOD ST|        ASSAULT|              SIMPLE| false|   false|       7|            67|     1165296|     1867844|2019|41.792959315|-87.669413975|(41.792959315, -8...|                  23|              17|2019-09-06 23:50:00|\n",
            "|11819844|   JC423159|017XX S MICHIGAN AVE|        ROBBERY|STRONGARM - NO WE...| false|   false|       1|            33|     1177496|     1891878|2019|41.858643312|  -87.6239505|(41.858643312, -8...|                  40|              22|2019-09-06 23:53:00|\n",
            "|11819848|   JC423127|   005XX N DRAKE AVE|CRIMINAL DAMAGE|          TO VEHICLE| false|   false|      11|            23|     1152622|     1903348|2019|41.890645892|-87.714951125|(41.890645892, -8...|                  30|              16|2019-09-06 23:52:00|\n",
            "|11822700|   JC426287|  012XX W ADDISON ST|          THEFT|           OVER $500| false|   false|      19|             6|     1167566|     1924050|2019| 41.94714472|  -87.6594722|(41.94714472, -87...|                  53|               5|2019-09-06 23:55:00|\n",
            "|11819855|   JC423179|     005XX E 32ND ST|        BATTERY|DOMESTIC BATTERY ...| false|    true|       2|            35|     1180539|     1883677|2019|41.836069707|-87.613033345|(41.836069707, -8...|                  40|              24|2019-09-06 23:55:00|\n",
            "+--------+-----------+--------------------+---------------+--------------------+------+--------+--------+--------------+------------+------------+----+------------+-------------+--------------------+--------------------+----------------+-------------------+\n",
            "only showing top 5 rows\n",
            "\n"
          ],
          "name": "stdout"
        }
      ]
    },
    {
      "cell_type": "markdown",
      "metadata": {
        "id": "nZl0ceyuV-F3",
        "colab_type": "text"
      },
      "source": [
        "### How many number of crimes per year happened?"
      ]
    },
    {
      "cell_type": "code",
      "metadata": {
        "id": "-8ME2mpcV-F5",
        "colab_type": "code",
        "colab": {
          "base_uri": "https://localhost:8080/",
          "height": 425
        },
        "outputId": "f096da97-a6bf-41bc-e551-bb1f5470ba66"
      },
      "source": [
        "crimes.groupBy(\"Year\").count().show()\n"
      ],
      "execution_count": null,
      "outputs": [
        {
          "output_type": "stream",
          "text": [
            "+----+------+\n",
            "|Year| count|\n",
            "+----+------+\n",
            "|2003|469975|\n",
            "|2007|433870|\n",
            "|2018|261620|\n",
            "|2015|256691|\n",
            "|2006|443606|\n",
            "|2013|305034|\n",
            "|2014|272492|\n",
            "|2019|174665|\n",
            "|2004|465253|\n",
            "|2012|333730|\n",
            "|2009|384149|\n",
            "|2016|265275|\n",
            "|2001|  3874|\n",
            "|2005|448002|\n",
            "|2010|368291|\n",
            "|2011|349459|\n",
            "|2008|418037|\n",
            "|2017|263001|\n",
            "|2002|343576|\n",
            "+----+------+\n",
            "\n"
          ],
          "name": "stdout"
        }
      ]
    },
    {
      "cell_type": "markdown",
      "metadata": {
        "id": "rqrid1DGV-F8",
        "colab_type": "text"
      },
      "source": [
        "###  Number of crimes by month\n",
        "we can use the month function from PySpark's functions to get the numeric month."
      ]
    },
    {
      "cell_type": "code",
      "metadata": {
        "id": "l2dCEFJoV-F8",
        "colab_type": "code",
        "colab": {
          "base_uri": "https://localhost:8080/",
          "height": 306
        },
        "outputId": "f86c6cc6-5128-4581-f98e-90acb245fb89"
      },
      "source": [
        "\n",
        "monthcrimes = crimes.withColumn(\"Month\",month(\"Date_time\"))\n",
        "monthCounts = monthcrimes.select(\"Month\").groupBy(\"Month\").count()\n",
        "monthCounts.show()"
      ],
      "execution_count": null,
      "outputs": [
        {
          "output_type": "stream",
          "text": [
            "+-----+------+\n",
            "|Month| count|\n",
            "+-----+------+\n",
            "|   12|460614|\n",
            "|    1|465172|\n",
            "|    6|574350|\n",
            "|    3|495075|\n",
            "|    5|578497|\n",
            "|    9|541374|\n",
            "|    4|508047|\n",
            "|    8|596286|\n",
            "|    7|602919|\n",
            "|   10|541577|\n",
            "|   11|486447|\n",
            "|    2|410242|\n",
            "+-----+------+\n",
            "\n"
          ],
          "name": "stdout"
        }
      ]
    },
    {
      "cell_type": "markdown",
      "metadata": {
        "id": "HXNvKl_oV-F-",
        "colab_type": "text"
      },
      "source": [
        "# Advantages and distadvantages"
      ]
    },
    {
      "cell_type": "markdown",
      "metadata": {
        "id": "JIAWsDnnV-F_",
        "colab_type": "text"
      },
      "source": [
        "The advantages and disadvantages of PySpark and Pandas are given below.\n",
        "\n",
        "1. csv file:\n",
        "Reading CSV file with Pandas is easy. You easily read CSV files with read_csv(). However, CSV is not supported natively by Spark. You have to use a separate library : spark-csv.\n",
        "\n",
        "2. Counting:\n",
        "PysparkDF.count() and pandasDF.count() do not give the same output. The first one returns the number of rows, and the second one returns the number of non NA/null observations for each column. It is noted that Spark doesn’t support .shape yet which is very often used in Pandas.\n",
        "\n",
        "3. Visualization:\n",
        "In Pandas, in order to obtain a tabular view of the content of a DataFrame, pandasDF.head(5), or pandasDF.tail(5) are typically used whereas,in IPython Notebooks, it displays a nice array with continuous borders. In Spark, you have sparkDF.head(5), but it has an ugly output. You should prefer sparkDF.show(5) instead. Note that you cannot view the last lines (.tail() does no exist yet, because long to do in distributed environment).\n",
        "\n",
        "4. Data conversion to Dataframe:\n",
        "Unless data is converted to dataframe, it is not convenient to use Pyspark. Since schema view of data is not available in Pyspark, dataframe becomes essential.\n",
        "\n",
        "5. Wrangling:\n",
        "‘[ ]’ operator can be used for features engineering in Pandas. In Spark, we can’t use this in PySpark since  DataFrames are immutable. You should use .withColumn().\n",
        "\n",
        "6. Online support:\t\n",
        "Limited online support for RDD in general. Most of support is available for Scala and dataframes in Spark.\n",
        "\n",
        "7. Syntax: \n",
        "Syntax is not as similar as expected between pyspark and pandas.\n",
        "\n",
        "In summary, PySpark is faster than Pandas but it is very expensive. PySpark is better for big dataset when a cloud/cluster can be utilized. On the other hand, Panda is slower than PySpark. Panda is suitable for smaller dataset where the code can be run on a personal computer. \n",
        "\n"
      ]
    },
    {
      "cell_type": "markdown",
      "metadata": {
        "id": "mV8zgvzyjcOc",
        "colab_type": "text"
      },
      "source": [
        ""
      ]
    }
  ]
}